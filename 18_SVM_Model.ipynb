{
 "cells": [
  {
   "cell_type": "code",
   "execution_count": 1,
   "id": "b0149d09",
   "metadata": {},
   "outputs": [],
   "source": [
    "import pandas as pd\n",
    "import numpy as np\n",
    "import matplotlib.pyplot as plt\n",
    "import os\n",
    "import mne\n",
    "from mne import io\n",
    "from mne import read_epochs"
   ]
  },
  {
   "cell_type": "code",
   "execution_count": 2,
   "id": "9faa0f4a",
   "metadata": {},
   "outputs": [
    {
     "name": "stdout",
     "output_type": "stream",
     "text": [
      "\n",
      "========= epoch_1 ==========\n",
      "Reading /home/st122403/work/eeg/data/g1dual1_epo.fif ...\n",
      "    Found the data of interest:\n",
      "        t =     -99.61 ...     699.22 ms\n",
      "        0 CTF compensation matrices available\n",
      "Not setting metadata\n",
      "Not setting metadata\n",
      "636 matching events found\n",
      "No baseline correction applied\n",
      "0 projection items activated\n",
      "\n",
      "========= epoch_2 ==========\n",
      "Reading /home/st122403/work/eeg/data/g1solo1_epo.fif ...\n",
      "    Found the data of interest:\n",
      "        t =     -99.61 ...     699.22 ms\n",
      "        0 CTF compensation matrices available\n",
      "Not setting metadata\n",
      "Not setting metadata\n",
      "240 matching events found\n",
      "No baseline correction applied\n",
      "0 projection items activated\n"
     ]
    }
   ],
   "source": [
    "url = './data/'\n",
    "\n",
    "print(\"\\n========= epoch_1 ==========\")\n",
    "\n",
    "# epoch_1\n",
    "file_name_1 = 'g1dual1_epo.fif' # eg. 'g1dual1_epo.fif'\n",
    "epoch_1 = read_epochs(url + file_name_1)\n",
    "print(\"\\n========= epoch_2 ==========\")\n",
    "\n",
    "# epoch_2\n",
    "file_name_2 = 'g1solo1_epo.fif' # eg. 'g1dual2_epo.fif'\n",
    "epoch_2 = read_epochs(url + file_name_2)"
   ]
  },
  {
   "cell_type": "code",
   "execution_count": 3,
   "id": "97ab859b",
   "metadata": {},
   "outputs": [
    {
     "name": "stdout",
     "output_type": "stream",
     "text": [
      "(636, 32, 410)\n",
      "(636,)\n"
     ]
    }
   ],
   "source": [
    "X_1 = epoch_1.get_data()\n",
    "y_train = np.array(epoch_1.events[:, -1], dtype = 'float32')\n",
    "y_train[y_train == 1.0] = -1.0\n",
    "y_train[y_train == 2.0] = 1.0\n",
    "\n",
    "print(X_1.shape)\n",
    "print(y_train.shape)\n",
    "# print(y)"
   ]
  },
  {
   "cell_type": "code",
   "execution_count": 4,
   "id": "2f76bdf2",
   "metadata": {},
   "outputs": [
    {
     "name": "stdout",
     "output_type": "stream",
     "text": [
      "(240, 32, 410)\n",
      "(240,)\n"
     ]
    }
   ],
   "source": [
    "X_2 = epoch_2.get_data()\n",
    "y_test = np.array(epoch_2.events[:, -1], dtype = 'float32')\n",
    "\n",
    "y_test[y_test == 1.0] = -1.0\n",
    "y_test[y_test == 2.0] = 1.0\n",
    "\n",
    "print(X_2.shape)\n",
    "print(y_test.shape)\n",
    "# print(y)"
   ]
  },
  {
   "cell_type": "code",
   "execution_count": 5,
   "id": "0651fbc8",
   "metadata": {},
   "outputs": [
    {
     "name": "stdout",
     "output_type": "stream",
     "text": [
      "(636, 13120)\n",
      "(240, 13120)\n"
     ]
    }
   ],
   "source": [
    "X_train = X_1.reshape(X_1.shape[0], X_1.shape[1] * X_1.shape[2])\n",
    "X_test = X_2.reshape(X_2.shape[0], X_2.shape[1] * X_2.shape[2])\n",
    "\n",
    "print(X_train.shape)\n",
    "print(X_test.shape)"
   ]
  },
  {
   "cell_type": "code",
   "execution_count": 6,
   "id": "c4b2b550",
   "metadata": {},
   "outputs": [],
   "source": [
    "from sklearn.discriminant_analysis import LinearDiscriminantAnalysis as LDA\n",
    "from sklearn.model_selection import StratifiedKFold\n",
    "from mne.preprocessing import Xdawn\n",
    "from pyriemann.estimation import XdawnCovariances\n",
    "from sklearn.metrics import classification_report\n",
    "from sklearn.svm import SVC\n",
    "from sklearn.pipeline import make_pipeline\n",
    "from sklearn.model_selection import GridSearchCV\n",
    "from sklearn.model_selection import cross_val_score"
   ]
  },
  {
   "cell_type": "code",
   "execution_count": 7,
   "id": "b8bdd1ac",
   "metadata": {},
   "outputs": [],
   "source": [
    "def search_cv(x_train, y_train, x_test, y_test, model=SVC()):\n",
    "\n",
    "    parameters = {'kernel': ('linear', 'rbf'), 'degree': [3, 4, 5], 'C': [0.8, 0.9, 1.0]}\n",
    "    clf = GridSearchCV(model, param_grid=parameters)\n",
    "    grid_search = clf.fit(x_train, y_train)\n",
    "\n",
    "    print(\"Best score: %0.3f\" % grid_search.best_score_)\n",
    "    print(grid_search.best_estimator_)\n",
    "\n",
    "    # best prarams\n",
    "    print('best prarams:', clf.best_params_)\n",
    "\n",
    "    print('-----grid search end------------')\n",
    "    print('on all train set')\n",
    "    scores = cross_val_score(grid_search.best_estimator_, x_train, y_train, cv=3, scoring='accuracy')\n",
    "    print(scores.mean(), scores)\n",
    "    print('on test set')\n",
    "    scores = cross_val_score(grid_search.best_estimator_, x_test, y_test, cv=3, scoring='accuracy')\n",
    "    print(scores.mean(), scores) "
   ]
  },
  {
   "cell_type": "code",
   "execution_count": 8,
   "id": "0a1339c6",
   "metadata": {},
   "outputs": [
    {
     "name": "stdout",
     "output_type": "stream",
     "text": [
      "Best score: 0.838\n",
      "SVC()\n",
      "best prarams: {'C': 1.0, 'degree': 3, 'kernel': 'rbf'}\n",
      "-----grid search end------------\n",
      "on all train set\n",
      "0.8364779874213837 [0.83962264 0.83962264 0.83018868]\n",
      "on test set\n",
      "0.8333333333333334 [0.8375 0.8375 0.825 ]\n"
     ]
    }
   ],
   "source": [
    "search_cv(X_train, y_train, X_test, y_test)"
   ]
  },
  {
   "cell_type": "code",
   "execution_count": 9,
   "id": "942a61d0",
   "metadata": {},
   "outputs": [
    {
     "name": "stdout",
     "output_type": "stream",
     "text": [
      "              precision    recall  f1-score   support\n",
      "\n",
      "        -1.0       0.84      1.00      0.91       200\n",
      "         1.0       1.00      0.05      0.10        40\n",
      "\n",
      "    accuracy                           0.84       240\n",
      "   macro avg       0.92      0.53      0.50       240\n",
      "weighted avg       0.87      0.84      0.78       240\n",
      "\n"
     ]
    }
   ],
   "source": [
    "params =  {'C': 1.0, 'degree': 3, 'kernel': 'rbf'}\n",
    "model = SVC(**params)\n",
    "model.fit(X_train, y_train)\n",
    "y_pred = model.predict(X_test)\n",
    "\n",
    "print(classification_report(y_test, y_pred))"
   ]
  },
  {
   "cell_type": "code",
   "execution_count": null,
   "id": "74b364cb-ed0c-4e91-905d-08b79ca48565",
   "metadata": {},
   "outputs": [],
   "source": []
  }
 ],
 "metadata": {
  "kernelspec": {
   "display_name": "Python 3 (ipykernel)",
   "language": "python",
   "name": "python3"
  },
  "language_info": {
   "codemirror_mode": {
    "name": "ipython",
    "version": 3
   },
   "file_extension": ".py",
   "mimetype": "text/x-python",
   "name": "python",
   "nbconvert_exporter": "python",
   "pygments_lexer": "ipython3",
   "version": "3.9.7"
  }
 },
 "nbformat": 4,
 "nbformat_minor": 5
}
