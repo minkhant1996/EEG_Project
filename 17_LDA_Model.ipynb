{
 "cells": [
  {
   "cell_type": "code",
   "execution_count": 1,
   "id": "b0149d09",
   "metadata": {},
   "outputs": [],
   "source": [
    "import pandas as pd\n",
    "import numpy as np\n",
    "import matplotlib.pyplot as plt\n",
    "import os\n",
    "import mne\n",
    "from mne import io\n",
    "from mne import read_epochs"
   ]
  },
  {
   "cell_type": "code",
   "execution_count": 2,
   "id": "9faa0f4a",
   "metadata": {},
   "outputs": [
    {
     "name": "stdout",
     "output_type": "stream",
     "text": [
      "\n",
      "========= epoch_1 ==========\n",
      "Reading /home/st122403/work/eeg/data/g1dual1_epo.fif ...\n",
      "    Found the data of interest:\n",
      "        t =     -99.61 ...     699.22 ms\n",
      "        0 CTF compensation matrices available\n",
      "Not setting metadata\n",
      "Not setting metadata\n",
      "636 matching events found\n",
      "No baseline correction applied\n",
      "0 projection items activated\n",
      "\n",
      "========= epoch_2 ==========\n",
      "Reading /home/st122403/work/eeg/data/g1solo1_epo.fif ...\n",
      "    Found the data of interest:\n",
      "        t =     -99.61 ...     699.22 ms\n",
      "        0 CTF compensation matrices available\n",
      "Not setting metadata\n",
      "Not setting metadata\n",
      "240 matching events found\n",
      "No baseline correction applied\n",
      "0 projection items activated\n"
     ]
    }
   ],
   "source": [
    "url = './data/'\n",
    "\n",
    "print(\"\\n========= epoch_1 ==========\")\n",
    "\n",
    "# epoch_1\n",
    "file_name_1 = 'g1dual1_epo.fif' # eg. 'g1dual1_epo.fif'\n",
    "epoch_1 = read_epochs(url + file_name_1)\n",
    "print(\"\\n========= epoch_2 ==========\")\n",
    "\n",
    "# epoch_2\n",
    "file_name_2 = 'g1solo1_epo.fif' # eg. 'g1dual2_epo.fif'\n",
    "epoch_2 = read_epochs(url + file_name_2)"
   ]
  },
  {
   "cell_type": "code",
   "execution_count": 3,
   "id": "97ab859b",
   "metadata": {},
   "outputs": [
    {
     "name": "stdout",
     "output_type": "stream",
     "text": [
      "(636, 32, 410)\n",
      "(636,)\n"
     ]
    }
   ],
   "source": [
    "X_1 = epoch_1.get_data()\n",
    "y_train = np.array(epoch_1.events[:, -1], dtype = 'float32')\n",
    "\n",
    "print(X_1.shape)\n",
    "print(y_train.shape)\n",
    "# print(y)"
   ]
  },
  {
   "cell_type": "code",
   "execution_count": 4,
   "id": "2f76bdf2",
   "metadata": {},
   "outputs": [
    {
     "name": "stdout",
     "output_type": "stream",
     "text": [
      "(240, 32, 410)\n",
      "(240,)\n"
     ]
    }
   ],
   "source": [
    "X_2 = epoch_2.get_data()\n",
    "y_test = np.array(epoch_2.events[:, -1], dtype = 'float32')\n",
    "\n",
    "print(X_2.shape)\n",
    "print(y_test.shape)\n",
    "# print(y)"
   ]
  },
  {
   "cell_type": "code",
   "execution_count": 5,
   "id": "0651fbc8",
   "metadata": {},
   "outputs": [
    {
     "name": "stdout",
     "output_type": "stream",
     "text": [
      "(636, 13120)\n",
      "(240, 13120)\n"
     ]
    }
   ],
   "source": [
    "X_train = X_1.reshape(X_1.shape[0], X_1.shape[1] * X_1.shape[2])\n",
    "X_test = X_2.reshape(X_2.shape[0], X_2.shape[1] * X_2.shape[2])\n",
    "\n",
    "print(X_train.shape)\n",
    "print(X_test.shape)"
   ]
  },
  {
   "cell_type": "code",
   "execution_count": 6,
   "id": "055e52a4",
   "metadata": {},
   "outputs": [],
   "source": [
    "from sklearn.discriminant_analysis import LinearDiscriminantAnalysis as LDA\n",
    "from sklearn.metrics import classification_report"
   ]
  },
  {
   "cell_type": "code",
   "execution_count": 7,
   "id": "7cf54a97",
   "metadata": {},
   "outputs": [
    {
     "name": "stdout",
     "output_type": "stream",
     "text": [
      "              precision    recall  f1-score   support\n",
      "\n",
      "         1.0       0.97      0.93      0.95       200\n",
      "         2.0       0.69      0.85      0.76        40\n",
      "\n",
      "    accuracy                           0.91       240\n",
      "   macro avg       0.83      0.89      0.86       240\n",
      "weighted avg       0.92      0.91      0.92       240\n",
      "\n"
     ]
    }
   ],
   "source": [
    "model = LDA(solver = 'svd')\n",
    "model.fit(X_train, y_train)\n",
    "y_pred = model.predict(X_test)\n",
    "\n",
    "print(classification_report(y_test, y_pred))"
   ]
  },
  {
   "cell_type": "code",
   "execution_count": null,
   "id": "d9147463-da31-4feb-ac3b-9b2814779f65",
   "metadata": {},
   "outputs": [],
   "source": []
  }
 ],
 "metadata": {
  "kernelspec": {
   "display_name": "Python 3 (ipykernel)",
   "language": "python",
   "name": "python3"
  },
  "language_info": {
   "codemirror_mode": {
    "name": "ipython",
    "version": 3
   },
   "file_extension": ".py",
   "mimetype": "text/x-python",
   "name": "python",
   "nbconvert_exporter": "python",
   "pygments_lexer": "ipython3",
   "version": "3.9.7"
  }
 },
 "nbformat": 4,
 "nbformat_minor": 5
}
